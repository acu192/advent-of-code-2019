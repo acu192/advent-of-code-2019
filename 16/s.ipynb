{
 "cells": [
  {
   "cell_type": "code",
   "execution_count": 1,
   "metadata": {},
   "outputs": [],
   "source": [
    "with open('../015/input', 'rt') as f:\n",
    "    digits = list(f.read().strip())"
   ]
  },
  {
   "cell_type": "code",
   "execution_count": 2,
   "metadata": {},
   "outputs": [],
   "source": [
    "size = 25 * 6\n",
    "\n",
    "chunks = []\n",
    "\n",
    "for i in range(0, len(digits), size):\n",
    "    chunk = digits[i:i+size]\n",
    "    chunks.append(chunk)"
   ]
  },
  {
   "cell_type": "code",
   "execution_count": 3,
   "metadata": {},
   "outputs": [],
   "source": [
    "final = []\n",
    "\n",
    "for i in range(size):\n",
    "    pixs = [chunk[i] for chunk in chunks]\n",
    "    for p in pixs:\n",
    "        if p != '2':\n",
    "            break\n",
    "    final.append(p)"
   ]
  },
  {
   "cell_type": "code",
   "execution_count": 4,
   "metadata": {},
   "outputs": [],
   "source": [
    "import numpy as np\n",
    "\n",
    "final = [int(f) for f in final]"
   ]
  },
  {
   "cell_type": "code",
   "execution_count": 5,
   "metadata": {},
   "outputs": [],
   "source": [
    "a = np.array(final).reshape((6, 25))"
   ]
  },
  {
   "cell_type": "code",
   "execution_count": 6,
   "metadata": {},
   "outputs": [
    {
     "name": "stdout",
     "output_type": "stream",
     "text": [
      "...  .... .... .  . ...  \n",
      ".  .    . .    . .  .  . \n",
      ".  .   .  ...  ..   ...  \n",
      "...   .   .    . .  .  . \n",
      ".    .    .    . .  .  . \n",
      ".    .... .... .  . ...  \n"
     ]
    }
   ],
   "source": [
    "for r in a:\n",
    "    s = ''.join(['.' if v else ' ' for v in r])\n",
    "    print(s)"
   ]
  },
  {
   "cell_type": "code",
   "execution_count": null,
   "metadata": {},
   "outputs": [],
   "source": []
  }
 ],
 "metadata": {
  "kernelspec": {
   "display_name": "Python 3",
   "language": "python",
   "name": "python3"
  },
  "language_info": {
   "codemirror_mode": {
    "name": "ipython",
    "version": 3
   },
   "file_extension": ".py",
   "mimetype": "text/x-python",
   "name": "python",
   "nbconvert_exporter": "python",
   "pygments_lexer": "ipython3",
   "version": "3.7.3"
  }
 },
 "nbformat": 4,
 "nbformat_minor": 2
}
