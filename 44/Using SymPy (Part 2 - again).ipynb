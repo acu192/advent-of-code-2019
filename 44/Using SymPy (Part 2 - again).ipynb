{
 "cells": [
  {
   "cell_type": "markdown",
   "metadata": {},
   "source": [
    "# Day 22, Part 2 (again, with more knowledge)\n",
    "\n",
    "If you have something like this (which we _will_ have):\n",
    "\n",
    "$$f(i) = Ai + b \\pmod{L}$$\n",
    "\n",
    "then, (and first), if `A` is super large, we can simplify it by doing `a = A % L` and we've maintained equivalance with the original expression, but now we have:\n",
    "\n",
    "$$f(i) = ai + b \\pmod{L}$$\n",
    "\n",
    "next, we'll have to _exponentiate_ our function, that is...\n",
    "\n",
    "$$f^2(i) = ( f \\circ f )(i) = ci + d \\pmod{L}$$\n",
    "\n",
    "but values do we need for `c` and `d` above? Turns out they are:\n",
    "\n",
    "$$c = a^2 \\pmod{L}$$\n",
    "\n",
    "$$d = ab + b \\pmod{L}$$\n",
    "\n",
    "thus we have a way to exponentiate $f(i)$, which means we can do clever things to exponentiate $f(i)$ to very high exponents (via clasic \"Binary Exponentiation\"). That's what this notebooks will do to solve day 22, part 2."
   ]
  },
  {
   "cell_type": "markdown",
   "metadata": {},
   "source": [
    "### Define `f(i)`\n",
    "\n",
    "We'll use SymPy to help us find $f(i)$, and use the shuffling routines I wrote in `s.py`."
   ]
  },
  {
   "cell_type": "code",
   "execution_count": 1,
   "metadata": {},
   "outputs": [],
   "source": [
    "from sympy import *\n",
    "\n",
    "init_printing()"
   ]
  },
  {
   "cell_type": "code",
   "execution_count": 2,
   "metadata": {},
   "outputs": [],
   "source": [
    "from s import get_card, steps\n",
    "\n",
    "length = 119315717514047\n",
    "iters = 101741582076661     # <-- this will become our exponent later to exponentiate `f(i)`"
   ]
  },
  {
   "cell_type": "code",
   "execution_count": 3,
   "metadata": {},
   "outputs": [
    {
     "name": "stdout",
     "output_type": "stream",
     "text": [
      "Poly(-46505386698319*i + 55921941268876, i, modulus=119315717514047)\n"
     ]
    }
   ],
   "source": [
    "# The final index we're interested in knowing about, as a SymPy variable:\n",
    "i = var('i')\n",
    "\n",
    "# The original position of the card which ends up at `i` after shuffling (Python ducktyping to save the day here):\n",
    "original_i = get_card(i, length, steps, on_demand_modulo=False)\n",
    "\n",
    "# Setting `on_demand_modulo=False` above sort-of lets us \"factor out\" the modulo operation, so now we apply it now:\n",
    "original_i = Poly(original_i, modulus=length)\n",
    "\n",
    "print(original_i)"
   ]
  },
  {
   "cell_type": "code",
   "execution_count": 4,
   "metadata": {},
   "outputs": [
    {
     "data": {
      "image/png": "[encoded data removed]",
      "text/latex": [
       "$\\displaystyle \\left( 72810330815728, \\  55921941268876\\right)$"
      ],
      "text/plain": [
       "(72810330815728, 55921941268876)"
      ]
     },
     "execution_count": 4,
     "metadata": {},
     "output_type": "execute_result"
    }
   ],
   "source": [
    "a, b = original_i.coeffs()\n",
    "\n",
    "a = a % length\n",
    "b = b % length\n",
    "\n",
    "a, b"
   ]
  },
  {
   "cell_type": "markdown",
   "metadata": {},
   "source": [
    "We did it. We know `f(i)` now (we've computed both `a` and `b`)."
   ]
  },
  {
   "cell_type": "markdown",
   "metadata": {},
   "source": [
    "### Binary Exponentiation\n",
    "\n",
    "https://en.wikipedia.org/wiki/Exponentiation_by_squaring\n",
    "\n",
    "See also [LCGs](https://en.wikipedia.org/wiki/Linear_congruential_generator) and [my old LCG for Challenge 24](https://github.com/acu192/archive-2011/blob/master/challenge_24/EC/solutions/D.cpp)."
   ]
  },
  {
   "cell_type": "code",
   "execution_count": 12,
   "metadata": {},
   "outputs": [],
   "source": [
    "def ab_mod_pow(a, b, value, exp, mod):\n",
    "    c = a\n",
    "    d = b\n",
    "    while (exp > 0):\n",
    "        if (exp % 2) == 1:\n",
    "            value = (value*c + d) % mod\n",
    "        d = (c*d + d) % mod\n",
    "        c = c*c % mod\n",
    "        exp //= 2\n",
    "    return value"
   ]
  },
  {
   "cell_type": "code",
   "execution_count": 13,
   "metadata": {},
   "outputs": [
    {
     "data": {
      "image/png": "[encoded data removed]",
      "text/latex": [
       "$\\displaystyle 49174686993380$"
      ],
      "text/plain": [
       "49174686993380"
      ]
     },
     "execution_count": 13,
     "metadata": {},
     "output_type": "execute_result"
    }
   ],
   "source": [
    "ab_mod_pow(a, b, 2020, iters, length)"
   ]
  },
  {
   "cell_type": "code",
   "execution_count": null,
   "metadata": {},
   "outputs": [],
   "source": []
  }
 ],
 "metadata": {
  "kernelspec": {
   "display_name": "Python 3",
   "language": "python",
   "name": "python3"
  },
  "language_info": {
   "codemirror_mode": {
    "name": "ipython",
    "version": 3
   },
   "file_extension": ".py",
   "mimetype": "text/x-python",
   "name": "python",
   "nbconvert_exporter": "python",
   "pygments_lexer": "ipython3",
   "version": "3.7.3"
  }
 },
 "nbformat": 4,
 "nbformat_minor": 2
}
