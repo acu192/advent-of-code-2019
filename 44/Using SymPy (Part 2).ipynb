{
 "cells": [
  {
   "cell_type": "markdown",
   "metadata": {},
   "source": [
    "# Day 22, Part 2\n",
    "\n",
    "If you have something like this (which we _will_ have):\n",
    "\n",
    "$$f(i) = Ai + b \\pmod{L}$$\n",
    "\n",
    "then, (and first), if `A` is super large, we can simplify it by doing `a = A % L` and we've maintained equivalance with the original expression, but now we have:\n",
    "\n",
    "$$f(i) = ai + b \\pmod{L}$$\n",
    "\n",
    "next, we'll have to _exponentiate_ our function, that is...\n",
    "\n",
    "$$f^2(i) = ( f \\circ f \\)(i) = ci + d \\pmod{L}$$\n",
    "\n",
    "but values do we need for `c` and `d` above? Turns out they are:\n",
    "\n",
    "$$c = a^2 \\pmod{L}$$\n",
    "\n",
    "$$d = ab + b \\pmod{L}$$\n",
    "\n",
    "thus we have a way to exponentiate $f(i)$, which means we can do clever things to exponentiate $f(i)$ to very high exponents (via clasic \"Binary Exponentiation\"). That's what this notebooks will do to solve day 22, part 2."
   ]
  },
  {
   "cell_type": "markdown",
   "metadata": {},
   "source": [
    "### Define `f(i)`\n",
    "\n",
    "We'll use SymPy to help us find $f(i)$, and use the shuffling routines I wrote in `s.py`."
   ]
  },
  {
   "cell_type": "code",
   "execution_count": 1,
   "metadata": {},
   "outputs": [],
   "source": [
    "from sympy import *\n",
    "\n",
    "init_printing()"
   ]
  },
  {
   "cell_type": "code",
   "execution_count": 2,
   "metadata": {},
   "outputs": [],
   "source": [
    "from s import get_card, steps\n",
    "\n",
    "length = 119315717514047\n",
    "iters = 101741582076661     # <-- this will become our exponent later to exponentiate `f(i)`"
   ]
  },
  {
   "cell_type": "code",
   "execution_count": 3,
   "metadata": {},
   "outputs": [
    {
     "name": "stdout",
     "output_type": "stream",
     "text": [
      "Mod(115454980177290844567281738476683890138352496246839940173996738389070217353588176067092747921376730583751094263579593756541946110963522306094901859879172082061429733011953956417482330770019329550072601913647817006548956550080296079927361292186890392098322236033780459966491440226045131629980768457580137578711104834425214142283809372297302789453005622927278599317793530290809322053336212402080838566927239199863558620560053738873436254088230179015143992258229038445957814576795732011703908083840025223348729145273685972238971772456717710860479949410035302400000000000*i + 55921941268876, 119315717514047)\n"
     ]
    }
   ],
   "source": [
    "# The final index we're interested in knowing about, as a SymPy variable:\n",
    "i = var('i')\n",
    "\n",
    "# The original position of the card which ends up at `i` after shuffling (Python ducktyping to save the day here):\n",
    "original_i = get_card(i, length, steps, on_demand_modulo=False)\n",
    "\n",
    "# Setting `on_demand_modulo=False` above sort-of lets us \"factor out\" the modulo operation, so now we apply it now:\n",
    "original_i = (original_i % length)\n",
    "\n",
    "print(original_i)"
   ]
  },
  {
   "cell_type": "code",
   "execution_count": 4,
   "metadata": {
    "scrolled": true
   },
   "outputs": [
    {
     "data": {
      "image/png": "[encoded data removed]",
      "text/latex": [
       "$\\displaystyle \\left( 72810330815728, \\  55921941268876\\right)$"
      ],
      "text/plain": [
       "(72810330815728, 55921941268876)"
      ]
     },
     "execution_count": 4,
     "metadata": {},
     "output_type": "execute_result"
    }
   ],
   "source": [
    "# !!!! NOT SURE HOW TO EXTRACT THINGS FROM THE SYMPY EXPRESSION ABOVE, SO I JUST COPY/PASTED THE VALUES BELOW:\n",
    "\n",
    "a = 115454980177290844567281738476683890138352496246839940173996738389070217353588176067092747921376730583751094263579593756541946110963522306094901859879172082061429733011953956417482330770019329550072601913647817006548956550080296079927361292186890392098322236033780459966491440226045131629980768457580137578711104834425214142283809372297302789453005622927278599317793530290809322053336212402080838566927239199863558620560053738873436254088230179015143992258229038445957814576795732011703908083840025223348729145273685972238971772456717710860479949410035302400000000000\n",
    "b = 55921941268876\n",
    "\n",
    "a = a % length\n",
    "b = b % length\n",
    "\n",
    "a, b"
   ]
  },
  {
   "cell_type": "markdown",
   "metadata": {},
   "source": [
    "We did it. We know `f(i)` now (we've computed both `a` and `b`)."
   ]
  },
  {
   "cell_type": "markdown",
   "metadata": {},
   "source": [
    "### Binary Exponentiation\n",
    "\n",
    "https://en.wikipedia.org/wiki/Exponentiation_by_squaring\n",
    "\n",
    "First a few examples to show the idea (these also let me check the correctness of the approach because I compared these values with those I get by just calling `get_card()` over-and-over and seeing that I get the same results). Here is the idea:"
   ]
  },
  {
   "cell_type": "code",
   "execution_count": 5,
   "metadata": {},
   "outputs": [
    {
     "data": {
      "image/png": "[encoded data removed]",
      "text/latex": [
       "$\\displaystyle \\left( 61103660298655, \\  30394198375070\\right)$"
      ],
      "text/plain": [
       "(61103660298655, 30394198375070)"
      ]
     },
     "execution_count": 5,
     "metadata": {},
     "output_type": "execute_result"
    }
   ],
   "source": [
    "a_squared = (a * a) % length\n",
    "b_squared = ((a * b) + b) % length\n",
    "\n",
    "a_squared, b_squared"
   ]
  },
  {
   "cell_type": "code",
   "execution_count": 6,
   "metadata": {},
   "outputs": [
    {
     "data": {
      "image/png": "[encoded data removed]",
      "text/latex": [
       "$\\displaystyle \\left( 40391131530529, \\  33602822174673\\right)$"
      ],
      "text/plain": [
       "(40391131530529, 33602822174673)"
      ]
     },
     "execution_count": 6,
     "metadata": {},
     "output_type": "execute_result"
    }
   ],
   "source": [
    "a_cubed = (a_squared * a) % length\n",
    "b_cubed = ((a_squared * b) + b_squared) % length\n",
    "\n",
    "a_cubed, b_cubed"
   ]
  },
  {
   "cell_type": "code",
   "execution_count": 7,
   "metadata": {},
   "outputs": [
    {
     "data": {
      "image/png": "[encoded data removed]",
      "text/latex": [
       "$\\displaystyle \\left( 2916127551846, \\  29839462515663\\right)$"
      ],
      "text/plain": [
       "(2916127551846, 29839462515663)"
      ]
     },
     "execution_count": 7,
     "metadata": {},
     "output_type": "execute_result"
    }
   ],
   "source": [
    "a_fourth = (a_squared * a_squared) % length\n",
    "b_fourth = ((a_squared * b_squared) + b_squared) % length\n",
    "\n",
    "a_fourth, b_fourth"
   ]
  },
  {
   "cell_type": "code",
   "execution_count": 8,
   "metadata": {},
   "outputs": [
    {
     "data": {
      "image/png": "[encoded data removed]",
      "text/latex": [
       "$\\displaystyle \\left( 20066004045531, \\  94416548849525\\right)$"
      ],
      "text/plain": [
       "(20066004045531, 94416548849525)"
      ]
     },
     "execution_count": 8,
     "metadata": {},
     "output_type": "execute_result"
    }
   ],
   "source": [
    "a_fifth = (a_cubed * a_squared) % length\n",
    "b_fifth = ((a_cubed * b_squared) + b_cubed) % length\n",
    "\n",
    "a_fifth, b_fifth"
   ]
  },
  {
   "cell_type": "code",
   "execution_count": 9,
   "metadata": {},
   "outputs": [
    {
     "data": {
      "image/png": "[encoded data removed]",
      "text/latex": [
       "$\\displaystyle \\left( 21683948154419, \\  56287314610783\\right)$"
      ],
      "text/plain": [
       "(21683948154419, 56287314610783)"
      ]
     },
     "execution_count": 9,
     "metadata": {},
     "output_type": "execute_result"
    }
   ],
   "source": [
    "a_seventh = (a_fourth * a_cubed) % length\n",
    "b_seventh = ((a_fourth * b_cubed) + b_fourth) % length\n",
    "\n",
    "a_seventh, b_seventh"
   ]
  },
  {
   "cell_type": "code",
   "execution_count": 10,
   "metadata": {},
   "outputs": [
    {
     "data": {
      "image/png": "[encoded data removed]",
      "text/latex": [
       "$\\displaystyle \\left( 58492323176139, \\  82359060720077\\right)$"
      ],
      "text/plain": [
       "(58492323176139, 82359060720077)"
      ]
     },
     "execution_count": 10,
     "metadata": {},
     "output_type": "execute_result"
    }
   ],
   "source": [
    "a_eighth = (a_fourth * a_fourth) % length\n",
    "b_eighth = ((a_fourth * b_fourth) + b_fourth) % length\n",
    "\n",
    "a_eighth, b_eighth"
   ]
  },
  {
   "cell_type": "code",
   "execution_count": 11,
   "metadata": {},
   "outputs": [
    {
     "data": {
      "image/png": "[encoded data removed]",
      "text/latex": [
       "$\\displaystyle \\left( 15819945305811, \\  100526619740660\\right)$"
      ],
      "text/plain": [
       "(15819945305811, 100526619740660)"
      ]
     },
     "execution_count": 11,
     "metadata": {},
     "output_type": "execute_result"
    }
   ],
   "source": [
    "a_15th = (a_eighth * a_seventh) % length\n",
    "b_15th = ((a_eighth * b_seventh) + b_eighth) % length\n",
    "\n",
    "a_15th, b_15th"
   ]
  },
  {
   "cell_type": "markdown",
   "metadata": {},
   "source": [
    "Now, let's do it for real:"
   ]
  },
  {
   "cell_type": "code",
   "execution_count": 12,
   "metadata": {},
   "outputs": [
    {
     "data": {
      "image/png": "[encoded data removed]",
      "text/latex": [
       "$\\displaystyle \\left( 32756661259397, \\  100942163307525\\right)$"
      ],
      "text/plain": [
       "(32756661259397, 100942163307525)"
      ]
     },
     "execution_count": 12,
     "metadata": {},
     "output_type": "execute_result"
    }
   ],
   "source": [
    "bit = 0\n",
    "\n",
    "a_exp = a\n",
    "b_exp = b\n",
    "\n",
    "a_answer = None\n",
    "b_answer = None\n",
    "\n",
    "while (1 << bit) <= iters:\n",
    "    if (1 << bit) & iters:\n",
    "        # This bit is set.\n",
    "        if a_answer is None:\n",
    "            a_answer = a_exp\n",
    "            b_answer = b_exp\n",
    "        else:\n",
    "            a_next = (a_exp * a_answer) % length\n",
    "            b_next = ((a_exp * b_answer) + b_exp) % length\n",
    "            a_answer = a_next\n",
    "            b_answer = b_next\n",
    "    \n",
    "    a_next = (a_exp * a_exp) % length\n",
    "    b_next = ((a_exp * b_exp) + b_exp) % length\n",
    "    a_exp = a_next\n",
    "    b_exp = b_next\n",
    "    \n",
    "    bit += 1\n",
    "    \n",
    "a_answer, b_answer"
   ]
  },
  {
   "cell_type": "markdown",
   "metadata": {},
   "source": [
    "### Answer the challenge's question, finally!"
   ]
  },
  {
   "cell_type": "code",
   "execution_count": 13,
   "metadata": {},
   "outputs": [
    {
     "data": {
      "image/png": "[encoded data removed]",
      "text/latex": [
       "$\\displaystyle 49174686993380$"
      ],
      "text/plain": [
       "49174686993380"
      ]
     },
     "execution_count": 13,
     "metadata": {},
     "output_type": "execute_result"
    }
   ],
   "source": [
    "i = 2020\n",
    "\n",
    "f_answer = ((a_answer * i) + b_answer) % length\n",
    "\n",
    "f_answer"
   ]
  },
  {
   "cell_type": "code",
   "execution_count": null,
   "metadata": {},
   "outputs": [],
   "source": []
  }
 ],
 "metadata": {
  "kernelspec": {
   "display_name": "Python 3",
   "language": "python",
   "name": "python3"
  },
  "language_info": {
   "codemirror_mode": {
    "name": "ipython",
    "version": 3
   },
   "file_extension": ".py",
   "mimetype": "text/x-python",
   "name": "python",
   "nbconvert_exporter": "python",
   "pygments_lexer": "ipython3",
   "version": "3.7.3"
  }
 },
 "nbformat": 4,
 "nbformat_minor": 2
}
