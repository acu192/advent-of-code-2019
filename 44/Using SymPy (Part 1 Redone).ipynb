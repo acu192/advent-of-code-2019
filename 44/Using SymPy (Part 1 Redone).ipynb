{
 "cells": [
  {
   "cell_type": "code",
   "execution_count": 1,
   "metadata": {},
   "outputs": [],
   "source": [
    "from sympy import *\n",
    "\n",
    "init_printing()"
   ]
  },
  {
   "cell_type": "code",
   "execution_count": 2,
   "metadata": {},
   "outputs": [],
   "source": [
    "from s import get_card, steps\n",
    "\n",
    "length = 10007\n",
    "iters = 1"
   ]
  },
  {
   "cell_type": "code",
   "execution_count": 3,
   "metadata": {},
   "outputs": [
    {
     "name": "stdout",
     "output_type": "stream",
     "text": [
      "Mod(2393*Mod(6719*Mod(5212*Mod(4931*Mod(3079*Mod(8362*Mod(3281*Mod(5212*Mod(1303*Mod(2779*Mod(9729*Mod(7997*Mod(2965*Mod(9173*Mod(834*Mod(4003*Mod(7042*Mod(4527*Mod(9200*Mod(7205*Mod(9173*Mod(2555*Mod(3387*Mod(3184*Mod(2918*Mod(934*Mod(7672*Mod(8427*Mod(3464*Mod(5445*Mod(5413*Mod(953*Mod(8339*Mod(790*Mod(7419*Mod(8427*i + 9539, 10007) + 10002, 10007) + 8113, 10007) + 1035, 10007) + 1718, 10007) + 2813, 10007) + 4884, 10007) + 9059, 10007) + 9250, 10007) + 749, 10007) + 6855, 10007) + 4114, 10007) + 3367, 10007) + 5249, 10007) + 4080, 10007) + 9173, 10007) + 5781, 10007) + 6656, 10007) + 2278, 10007) + 6369, 10007) + 549, 10007) + 6309, 10007) + 6209, 10007) + 9776, 10007) + 4016, 10007) + 5751, 10007) + 179, 10007) + 3669, 10007) + 154, 10007) + 3318, 10007) + 8362, 10007) + 7883, 10007) + 3528, 10007) + 547, 10007) + 3526, 10007) + 1470, 10007)\n"
     ]
    }
   ],
   "source": [
    "i = var('i')\n",
    "\n",
    "shuffle = i   # Really this is more like a \"reverse shuffle\"\n",
    "\n",
    "for _ in range(iters):\n",
    "    shuffle = get_card(shuffle, length, steps)\n",
    "\n",
    "print(shuffle)"
   ]
  },
  {
   "cell_type": "code",
   "execution_count": 4,
   "metadata": {},
   "outputs": [],
   "source": [
    "# simplify(shuffle)    # <-- TOO SLOW"
   ]
  },
  {
   "cell_type": "code",
   "execution_count": 5,
   "metadata": {},
   "outputs": [
    {
     "name": "stdout",
     "output_type": "stream",
     "text": [
      "1822\n"
     ]
    }
   ],
   "source": [
    "for j in range(length):\n",
    "    c = shuffle.subs(i, j)\n",
    "    if c == 2019:\n",
    "        print(j)\n",
    "        break"
   ]
  },
  {
   "cell_type": "code",
   "execution_count": null,
   "metadata": {},
   "outputs": [],
   "source": []
  }
 ],
 "metadata": {
  "kernelspec": {
   "display_name": "Python 3",
   "language": "python",
   "name": "python3"
  },
  "language_info": {
   "codemirror_mode": {
    "name": "ipython",
    "version": 3
   },
   "file_extension": ".py",
   "mimetype": "text/x-python",
   "name": "python",
   "nbconvert_exporter": "python",
   "pygments_lexer": "ipython3",
   "version": "3.7.3"
  }
 },
 "nbformat": 4,
 "nbformat_minor": 2
}
